{
  "cells": [
    {
      "cell_type": "markdown",
      "metadata": {
        "id": "_UjclyQhvhHT"
      },
      "source": [
        "Este notebook é basedo no notebook do mrdbourke: https://www.learnpytorch.io/00_pytorch_fundamentals/"
      ]
    },
    {
      "cell_type": "code",
      "execution_count": 1,
      "metadata": {
        "colab": {
          "base_uri": "https://localhost:8080/"
        },
        "id": "rlKk4IdZu3Yk",
        "outputId": "8454b97a-c746-4cfb-dcd3-0a54958b461e"
      },
      "outputs": [
        {
          "name": "stdout",
          "output_type": "stream",
          "text": [
            "1.13.1+cu116\n"
          ]
        }
      ],
      "source": [
        "import torch\n",
        "import pandas as pd\n",
        "import numpy as np\n",
        "import matplotlib.pyplot as plt\n",
        "print(torch.__version__)"
      ]
    },
    {
      "cell_type": "markdown",
      "metadata": {
        "id": "0F5EGD2Dxnxv"
      },
      "source": [
        "## Tensores"
      ]
    },
    {
      "cell_type": "markdown",
      "metadata": {
        "id": "I6xEb3Sfxv3f"
      },
      "source": [
        "### Escalar"
      ]
    },
    {
      "cell_type": "code",
      "execution_count": 2,
      "metadata": {
        "colab": {
          "base_uri": "https://localhost:8080/"
        },
        "id": "603YeCPbvST5",
        "outputId": "50d630ee-da63-4e33-a3d8-953e0f7c5f01"
      },
      "outputs": [
        {
          "data": {
            "text/plain": [
              "tensor(7)"
            ]
          },
          "execution_count": 2,
          "metadata": {},
          "output_type": "execute_result"
        }
      ],
      "source": [
        "escalar = torch.tensor(7)\n",
        "escalar"
      ]
    },
    {
      "cell_type": "code",
      "execution_count": 3,
      "metadata": {
        "colab": {
          "base_uri": "https://localhost:8080/"
        },
        "id": "Cl4sRZ7dx5qX",
        "outputId": "3e3315d6-c4c0-433a-9fc9-858945709fab"
      },
      "outputs": [
        {
          "data": {
            "text/plain": [
              "0"
            ]
          },
          "execution_count": 3,
          "metadata": {},
          "output_type": "execute_result"
        }
      ],
      "source": [
        "escalar.ndim"
      ]
    },
    {
      "cell_type": "code",
      "execution_count": 4,
      "metadata": {
        "colab": {
          "base_uri": "https://localhost:8080/"
        },
        "id": "3Xervo_iyk03",
        "outputId": "30de081b-8e86-42f2-90be-207b119a176b"
      },
      "outputs": [
        {
          "data": {
            "text/plain": [
              "7"
            ]
          },
          "execution_count": 4,
          "metadata": {},
          "output_type": "execute_result"
        }
      ],
      "source": [
        "escalar.item()"
      ]
    },
    {
      "cell_type": "markdown",
      "metadata": {
        "id": "6BZ-URaByoEK"
      },
      "source": [
        "### Vetor"
      ]
    },
    {
      "cell_type": "code",
      "execution_count": 12,
      "metadata": {
        "colab": {
          "base_uri": "https://localhost:8080/"
        },
        "id": "FM_Z57PoyqbN",
        "outputId": "fad1482c-d4f2-45a7-b79a-21e2d8fd240c"
      },
      "outputs": [
        {
          "data": {
            "text/plain": [
              "(tensor([1, 7]), torch.Size([2]), 1)"
            ]
          },
          "execution_count": 12,
          "metadata": {},
          "output_type": "execute_result"
        }
      ],
      "source": [
        "vetor = torch.tensor([1,7])\n",
        "vetor , vetor.shape, vetor.ndim"
      ]
    },
    {
      "cell_type": "markdown",
      "metadata": {
        "id": "c9nuxaJSzLSK"
      },
      "source": [
        "### Matriz"
      ]
    },
    {
      "cell_type": "code",
      "execution_count": 38,
      "metadata": {
        "colab": {
          "base_uri": "https://localhost:8080/"
        },
        "id": "-ApRLBuVzOWf",
        "outputId": "a24dfd64-39ce-4aa8-ad86-a6419eef8eb5"
      },
      "outputs": [
        {
          "data": {
            "text/plain": [
              "(tensor([[3, 6],\n",
              "         [2, 5]]),\n",
              " <function Tensor.dim>,\n",
              " torch.Size([2, 2]),\n",
              " tensor([3, 6]),\n",
              " tensor([2, 5]))"
            ]
          },
          "execution_count": 38,
          "metadata": {},
          "output_type": "execute_result"
        }
      ],
      "source": [
        "MATRIX = torch.tensor([[3,6], [2,5]])\n",
        "MATRIX, MATRIX.dim, MATRIX.shape, MATRIX[0], MATRIX[1]"
      ]
    },
    {
      "cell_type": "markdown",
      "metadata": {
        "id": "9dp8dIA-zgJc"
      },
      "source": [
        "### Tensor"
      ]
    },
    {
      "cell_type": "code",
      "execution_count": 37,
      "metadata": {
        "colab": {
          "base_uri": "https://localhost:8080/"
        },
        "id": "Fpd7O9V-zc5D",
        "outputId": "618bb9aa-53ed-4796-f6c4-380a00c8f525"
      },
      "outputs": [
        {
          "data": {
            "text/plain": [
              "(tensor([[[2, 5, 7],\n",
              "          [2, 9, 8],\n",
              "          [2, 3, 9]]]), 3, torch.Size([1, 3, 3]))"
            ]
          },
          "execution_count": 37,
          "metadata": {},
          "output_type": "execute_result"
        }
      ],
      "source": [
        "TENSOR = torch.tensor([[[2,5,7], [2,9,8], [2,3,9]]])\n",
        "TENSOR, TENSOR.ndim, TENSOR.shape"
      ]
    },
    {
      "cell_type": "code",
      "execution_count": 21,
      "metadata": {
        "colab": {
          "base_uri": "https://localhost:8080/"
        },
        "id": "5a49694Kz0B8",
        "outputId": "01d0f66e-d83e-4d50-fa42-5b1d8b99ea63"
      },
      "outputs": [
        {
          "data": {
            "text/plain": [
              "tensor([[2, 5, 7],\n",
              "        [2, 9, 8],\n",
              "        [2, 3, 9]])"
            ]
          },
          "execution_count": 21,
          "metadata": {},
          "output_type": "execute_result"
        }
      ],
      "source": [
        "TENSOR[0]"
      ]
    },
    {
      "cell_type": "code",
      "execution_count": 36,
      "metadata": {
        "colab": {
          "base_uri": "https://localhost:8080/"
        },
        "id": "Wjt6Gtg_0GkK",
        "outputId": "93a92d4a-b102-4a0a-a5f8-826607990806"
      },
      "outputs": [
        {
          "data": {
            "text/plain": [
              "tensor(5)"
            ]
          },
          "execution_count": 36,
          "metadata": {},
          "output_type": "execute_result"
        }
      ],
      "source": [
        "TENSOR[0,0,1]"
      ]
    },
    {
      "cell_type": "code",
      "execution_count": 41,
      "metadata": {
        "colab": {
          "base_uri": "https://localhost:8080/"
        },
        "id": "KohN4KZ-0Mew",
        "outputId": "b82ef690-b2d6-4e92-c6e7-ad16a4e295dc"
      },
      "outputs": [
        {
          "data": {
            "text/plain": [
              "torch.Size([1, 3, 3])"
            ]
          },
          "execution_count": 41,
          "metadata": {},
          "output_type": "execute_result"
        }
      ],
      "source": [
        "TENSOR.size()"
      ]
    },
    {
      "cell_type": "markdown",
      "metadata": {
        "id": "3FMYwx4l2F-L"
      },
      "source": [
        "### Tensores Aleatórios"
      ]
    },
    {
      "cell_type": "code",
      "execution_count": 42,
      "metadata": {
        "colab": {
          "base_uri": "https://localhost:8080/"
        },
        "id": "9uJdHq4O1_Jf",
        "outputId": "be1169db-0bad-495a-e296-ef1aea4d4491"
      },
      "outputs": [
        {
          "data": {
            "text/plain": [
              "tensor([[0.9005, 0.9319, 0.1600, 0.0708],\n",
              "        [0.9731, 0.2383, 0.0817, 0.9728],\n",
              "        [0.4746, 0.6787, 0.3129, 0.6931]])"
            ]
          },
          "execution_count": 42,
          "metadata": {},
          "output_type": "execute_result"
        }
      ],
      "source": [
        "TENSOR_ALEATORIO = torch.rand(3,4)\n",
        "TENSOR_ALEATORIO"
      ]
    },
    {
      "cell_type": "code",
      "execution_count": 45,
      "metadata": {
        "colab": {
          "base_uri": "https://localhost:8080/"
        },
        "id": "Z-a-F8JV2w7E",
        "outputId": "552a91d6-ec72-497e-a967-9c77c781d5ac"
      },
      "outputs": [
        {
          "data": {
            "text/plain": [
              "(2, torch.Size([3, 4]))"
            ]
          },
          "execution_count": 45,
          "metadata": {},
          "output_type": "execute_result"
        }
      ],
      "source": [
        "TENSOR_ALEATORIO.ndim, TENSOR_ALEATORIO.shape"
      ]
    },
    {
      "cell_type": "code",
      "execution_count": 46,
      "metadata": {
        "colab": {
          "base_uri": "https://localhost:8080/"
        },
        "id": "70tY3_e827bz",
        "outputId": "da02e242-677f-48a5-e2e4-ca125bab79ce"
      },
      "outputs": [
        {
          "data": {
            "text/plain": [
              "tensor([0.9731, 0.2383, 0.0817, 0.9728])"
            ]
          },
          "execution_count": 46,
          "metadata": {},
          "output_type": "execute_result"
        }
      ],
      "source": [
        "TENSOR_ALEATORIO[1,:]"
      ]
    },
    {
      "cell_type": "markdown",
      "metadata": {
        "id": "QsFyPgHb5-3R"
      },
      "source": [
        "Tensor RGB para imagem"
      ]
    },
    {
      "cell_type": "code",
      "execution_count": 48,
      "metadata": {
        "id": "bBjkwKbb3QNz"
      },
      "outputs": [],
      "source": [
        "TENSOR_IMAGEM = torch.rand(3,224,224)"
      ]
    },
    {
      "cell_type": "code",
      "execution_count": 49,
      "metadata": {
        "colab": {
          "base_uri": "https://localhost:8080/"
        },
        "id": "2hVDhI805oMT",
        "outputId": "3b467553-e21e-4240-a098-f72fc54b3c96"
      },
      "outputs": [
        {
          "data": {
            "text/plain": [
              "(torch.Size([3, 224, 224]),\n",
              " 3,\n",
              " tensor([[[0.4585, 0.3512, 0.9960,  ..., 0.9635, 0.9038, 0.9350],\n",
              "          [0.3343, 0.1927, 0.0600,  ..., 0.3554, 0.1525, 0.3498],\n",
              "          [0.1752, 0.6002, 0.1730,  ..., 0.6876, 0.4311, 0.9638],\n",
              "          ...,\n",
              "          [0.6028, 0.3213, 0.7064,  ..., 0.7567, 0.5419, 0.7434],\n",
              "          [0.0719, 0.8203, 0.3674,  ..., 0.1230, 0.3335, 0.5558],\n",
              "          [0.1123, 0.1179, 0.3466,  ..., 0.8594, 0.0134, 0.3071]],\n",
              " \n",
              "         [[0.2754, 0.9289, 0.4222,  ..., 0.5473, 0.8465, 0.4881],\n",
              "          [0.5024, 0.6476, 0.5556,  ..., 0.5372, 0.2269, 0.0850],\n",
              "          [0.3160, 0.8390, 0.6497,  ..., 0.0089, 0.6369, 0.8192],\n",
              "          ...,\n",
              "          [0.0156, 0.9300, 0.1396,  ..., 0.8527, 0.1400, 0.1334],\n",
              "          [0.7087, 0.9609, 0.5314,  ..., 0.7753, 0.7321, 0.1672],\n",
              "          [0.9875, 0.4667, 0.2341,  ..., 0.6231, 0.0413, 0.2299]],\n",
              " \n",
              "         [[0.7785, 0.9931, 0.5989,  ..., 0.5722, 0.0146, 0.1616],\n",
              "          [0.4340, 0.3350, 0.4745,  ..., 0.5503, 0.5429, 0.9251],\n",
              "          [0.1625, 0.8191, 0.9331,  ..., 0.1698, 0.1997, 0.3249],\n",
              "          ...,\n",
              "          [0.0151, 0.1787, 0.6251,  ..., 0.5268, 0.1459, 0.4255],\n",
              "          [0.3781, 0.3753, 0.2670,  ..., 0.7282, 0.4929, 0.1870],\n",
              "          [0.8936, 0.2070, 0.1559,  ..., 0.5177, 0.6060, 0.5295]]]))"
            ]
          },
          "execution_count": 49,
          "metadata": {},
          "output_type": "execute_result"
        }
      ],
      "source": [
        "TENSOR_IMAGEM.shape, TENSOR_IMAGEM.ndim, TENSOR_IMAGEM"
      ]
    },
    {
      "cell_type": "markdown",
      "metadata": {
        "id": "Wy4tNgEK6sCR"
      },
      "source": [
        "### Tensores de 0s e 1s"
      ]
    },
    {
      "cell_type": "code",
      "execution_count": 52,
      "metadata": {
        "colab": {
          "base_uri": "https://localhost:8080/"
        },
        "id": "IPfrp0OO60p-",
        "outputId": "9d5cce08-c5d7-4d0d-a14b-6bb896b6bda0"
      },
      "outputs": [
        {
          "data": {
            "text/plain": [
              "tensor([[0., 0., 0., 0.],\n",
              "        [0., 0., 0., 0.],\n",
              "        [0., 0., 0., 0.]])"
            ]
          },
          "execution_count": 52,
          "metadata": {},
          "output_type": "execute_result"
        }
      ],
      "source": [
        "ZEROS = torch.zeros(3,4)\n",
        "ZEROS"
      ]
    },
    {
      "cell_type": "code",
      "execution_count": 53,
      "metadata": {
        "colab": {
          "base_uri": "https://localhost:8080/"
        },
        "id": "P3TokwwF6-rl",
        "outputId": "163c8b78-fbd5-4692-8270-2080a1a38820"
      },
      "outputs": [
        {
          "data": {
            "text/plain": [
              "tensor([[1., 1., 1., 1.],\n",
              "        [1., 1., 1., 1.],\n",
              "        [1., 1., 1., 1.]])"
            ]
          },
          "execution_count": 53,
          "metadata": {},
          "output_type": "execute_result"
        }
      ],
      "source": [
        "UNS = torch.ones(3,4)\n",
        "UNS"
      ]
    },
    {
      "cell_type": "markdown",
      "metadata": {
        "id": "o8rlsLrZ7Q29"
      },
      "source": [
        "### Ranges de Tensores"
      ]
    },
    {
      "cell_type": "code",
      "execution_count": 58,
      "metadata": {
        "colab": {
          "base_uri": "https://localhost:8080/"
        },
        "id": "FOwpHJYo7XYI",
        "outputId": "eb8aa869-fc4a-4617-a86c-fdeff311350a"
      },
      "outputs": [
        {
          "data": {
            "text/plain": [
              "tensor([ 1,  2,  3,  4,  5,  6,  7,  8,  9, 10])"
            ]
          },
          "execution_count": 58,
          "metadata": {},
          "output_type": "execute_result"
        }
      ],
      "source": [
        "RANGE = torch.arange(1,11)\n",
        "RANGE"
      ]
    },
    {
      "cell_type": "markdown",
      "metadata": {
        "id": "NP9zPFYV72Lr"
      },
      "source": [
        "### Tensores Like"
      ]
    },
    {
      "cell_type": "code",
      "execution_count": 60,
      "metadata": {
        "colab": {
          "base_uri": "https://localhost:8080/"
        },
        "id": "_PnsC_fQ77tJ",
        "outputId": "05ee26ff-71ad-4cce-e5c5-66cb46a6712c"
      },
      "outputs": [
        {
          "data": {
            "text/plain": [
              "tensor([0, 0, 0, 0, 0, 0, 0, 0, 0, 0])"
            ]
          },
          "execution_count": 60,
          "metadata": {},
          "output_type": "execute_result"
        }
      ],
      "source": [
        "DEZ_ZEROS = torch.zeros_like(RANGE)\n",
        "DEZ_ZEROS"
      ]
    },
    {
      "cell_type": "markdown",
      "metadata": {
        "id": "t5foTcPo7GcR"
      },
      "source": [
        "### Tipos de Dados"
      ]
    },
    {
      "cell_type": "code",
      "execution_count": 63,
      "metadata": {
        "colab": {
          "base_uri": "https://localhost:8080/"
        },
        "id": "upShGGSa7Ky6",
        "outputId": "f89561cd-1de2-4de4-a695-1f91e1833827"
      },
      "outputs": [
        {
          "data": {
            "text/plain": [
              "torch.float32"
            ]
          },
          "execution_count": 63,
          "metadata": {},
          "output_type": "execute_result"
        }
      ],
      "source": [
        "# Float 32\n",
        "\n",
        "float_32_tensor = torch.tensor([3.0,6.0,9.0], \n",
        "                               dtype=None, # Default float32\n",
        "                               device=None, # Default \"cpu\"\n",
        "                               requires_grad=False) # Default \"False\"\n",
        "float_32_tensor.dtype"
      ]
    },
    {
      "cell_type": "code",
      "execution_count": 67,
      "metadata": {
        "colab": {
          "base_uri": "https://localhost:8080/"
        },
        "id": "z_eA_tKF8wcn",
        "outputId": "81549cb3-2065-4d0a-b8c4-d393599663fa"
      },
      "outputs": [
        {
          "data": {
            "text/plain": [
              "torch.float16"
            ]
          },
          "execution_count": 67,
          "metadata": {},
          "output_type": "execute_result"
        }
      ],
      "source": [
        "float_16_tensor = float_32_tensor.to(dtype = torch.float16)\n",
        "float_16_tensor.dtype"
      ]
    },
    {
      "cell_type": "code",
      "execution_count": 69,
      "metadata": {
        "colab": {
          "base_uri": "https://localhost:8080/"
        },
        "id": "SLQ3BFep-bp-",
        "outputId": "99d53388-6a80-4987-8b4e-ce9ea03d6227"
      },
      "outputs": [
        {
          "name": "stdout",
          "output_type": "stream",
          "text": [
            "Tipo do tensor: torch.float16\n",
            "Tipo do tensor: torch.float32\n"
          ]
        }
      ],
      "source": [
        "print(f\"Tipo do tensor: {float_16_tensor.dtype}\")\n",
        "print(f\"Tipo do tensor: {float_32_tensor.dtype}\")"
      ]
    },
    {
      "cell_type": "markdown",
      "metadata": {
        "id": "XGxcPSfs-tq9"
      },
      "source": [
        "### Operações com Tensores\n",
        "\n",
        "* Soma\n",
        "* Subtração\n",
        "* Multiplicação (por elemento)\n",
        "* Divisão\n",
        "* Multiplicação de Matrizes"
      ]
    },
    {
      "cell_type": "code",
      "execution_count": 73,
      "metadata": {
        "colab": {
          "base_uri": "https://localhost:8080/"
        },
        "id": "5V25wBpH-6em",
        "outputId": "02f522f0-0f28-4f70-9e30-047f91dec1b5"
      },
      "outputs": [
        {
          "data": {
            "text/plain": [
              "tensor([11, 12, 13])"
            ]
          },
          "execution_count": 73,
          "metadata": {},
          "output_type": "execute_result"
        }
      ],
      "source": [
        "tensor  = torch.tensor([1,2,3]) + 10\n",
        "tensor"
      ]
    },
    {
      "cell_type": "code",
      "execution_count": 74,
      "metadata": {
        "colab": {
          "base_uri": "https://localhost:8080/"
        },
        "id": "D_JCtc4yAnrL",
        "outputId": "f2a26174-cf2f-4d7e-bb9a-5d2d8d29e487"
      },
      "outputs": [
        {
          "data": {
            "text/plain": [
              "tensor([110, 120, 130])"
            ]
          },
          "execution_count": 74,
          "metadata": {},
          "output_type": "execute_result"
        }
      ],
      "source": [
        "tensor * 10\n"
      ]
    },
    {
      "cell_type": "code",
      "execution_count": 75,
      "metadata": {
        "colab": {
          "base_uri": "https://localhost:8080/"
        },
        "id": "875KWemhAt3a",
        "outputId": "f48adb79-8608-4287-d9d9-cee744296c08"
      },
      "outputs": [
        {
          "data": {
            "text/plain": [
              "tensor([10, 11, 12])"
            ]
          },
          "execution_count": 75,
          "metadata": {},
          "output_type": "execute_result"
        }
      ],
      "source": [
        "tensor - 1"
      ]
    },
    {
      "cell_type": "code",
      "execution_count": 81,
      "metadata": {
        "colab": {
          "base_uri": "https://localhost:8080/"
        },
        "id": "wu2yF6H7A5YT",
        "outputId": "e62a5d1d-99af-4558-82e5-49ce72a30de4"
      },
      "outputs": [
        {
          "data": {
            "text/plain": [
              "tensor([22., 24., 26.])"
            ]
          },
          "execution_count": 81,
          "metadata": {},
          "output_type": "execute_result"
        }
      ],
      "source": [
        "torch.div(tensor,0.5)"
      ]
    },
    {
      "cell_type": "code",
      "execution_count": 98,
      "metadata": {
        "colab": {
          "base_uri": "https://localhost:8080/"
        },
        "id": "kv_H85RuBpxy",
        "outputId": "e906e756-06cd-4c87-adf8-3250628c0581"
      },
      "outputs": [
        {
          "data": {
            "text/plain": [
              "tensor([[ 58,  64],\n",
              "        [139, 154]])"
            ]
          },
          "execution_count": 98,
          "metadata": {},
          "output_type": "execute_result"
        }
      ],
      "source": [
        "t1 = torch.tensor([[1,2,3],[4,5,6]])\n",
        "t2 = torch.tensor([[7,8],[9,10],[11,12]])\n",
        "t1.shape, t2.shape\n",
        "\n",
        "torch.matmul(t1, t2) # Funciona \n",
        "# torch.matmul(t1, t1) # Não funciona pois as dimensões INTERNAS precisam ser idênticas"
      ]
    },
    {
      "cell_type": "code",
      "execution_count": 107,
      "metadata": {
        "colab": {
          "base_uri": "https://localhost:8080/"
        },
        "id": "0v5jS1FNDfv4",
        "outputId": "67d37e0c-5583-4687-d37c-a60df6d25375"
      },
      "outputs": [
        {
          "name": "stdout",
          "output_type": "stream",
          "text": [
            "torch.Size([2, 3])\n",
            "torch.Size([3, 2])\n",
            "tensor([[ 58,  64],\n",
            "        [139, 154]])\n"
          ]
        }
      ],
      "source": [
        "t3 = t1 @ t2 # @ é o perador do matmul e mm é um alias poara matmul\n",
        "print(f\"{t1.shape}\")\n",
        "print(f\"{t2.shape}\")\n",
        "print(f\"{t3}\") # O resultado da multiplicação de matriz, tem o shape das dimensões EXTERNAS."
      ]
    },
    {
      "cell_type": "code",
      "execution_count": 108,
      "metadata": {
        "colab": {
          "base_uri": "https://localhost:8080/"
        },
        "id": "0eNZFB_KGizJ",
        "outputId": "30e9e88b-1af7-4298-8c38-7770ddcea54d"
      },
      "outputs": [
        {
          "data": {
            "text/plain": [
              "tensor([[14, 32],\n",
              "        [32, 77]])"
            ]
          },
          "execution_count": 108,
          "metadata": {},
          "output_type": "execute_result"
        }
      ],
      "source": [
        "#Podemos manipular o shape de um tensor usando o *transpose*\n",
        "t4 = t1 @ t1.T\n",
        "t4"
      ]
    },
    {
      "cell_type": "code",
      "execution_count": 110,
      "metadata": {
        "colab": {
          "base_uri": "https://localhost:8080/"
        },
        "id": "BRWxByNSG4dt",
        "outputId": "53425d46-3074-4d84-f124-705d1088d82b"
      },
      "outputs": [
        {
          "data": {
            "text/plain": [
              "torch.Size([3, 2])"
            ]
          },
          "execution_count": 110,
          "metadata": {},
          "output_type": "execute_result"
        }
      ],
      "source": [
        "t1.T.shape"
      ]
    },
    {
      "cell_type": "markdown",
      "metadata": {
        "id": "c2gVXKZgHi9x"
      },
      "source": [
        "### Min, Max, Media e Soma"
      ]
    },
    {
      "cell_type": "code",
      "execution_count": 129,
      "metadata": {
        "colab": {
          "base_uri": "https://localhost:8080/"
        },
        "id": "tCAyZFBpHs9H",
        "outputId": "bc1a9499-c049-4fff-f975-0ce48ec326b9"
      },
      "outputs": [
        {
          "data": {
            "text/plain": [
              "tensor([ 0, 10, 20, 30, 40, 50, 60, 70, 80, 90])"
            ]
          },
          "execution_count": 129,
          "metadata": {},
          "output_type": "execute_result"
        }
      ],
      "source": [
        "x = torch.arange(0,100,step=10)\n",
        "x"
      ]
    },
    {
      "cell_type": "code",
      "execution_count": 133,
      "metadata": {
        "colab": {
          "base_uri": "https://localhost:8080/"
        },
        "id": "hOzNR5gfH1fk",
        "outputId": "e55b1bc8-86e6-4c62-d283-9f4b04d6c1df"
      },
      "outputs": [
        {
          "data": {
            "text/plain": [
              "tensor(0)"
            ]
          },
          "execution_count": 133,
          "metadata": {},
          "output_type": "execute_result"
        }
      ],
      "source": [
        "x.min()"
      ]
    },
    {
      "cell_type": "code",
      "execution_count": 134,
      "metadata": {
        "colab": {
          "base_uri": "https://localhost:8080/"
        },
        "id": "fta_bQU0IVOz",
        "outputId": "871f4449-949f-4bfd-9123-5a9083e3e491"
      },
      "outputs": [
        {
          "data": {
            "text/plain": [
              "tensor(90)"
            ]
          },
          "execution_count": 134,
          "metadata": {},
          "output_type": "execute_result"
        }
      ],
      "source": [
        "x.max()"
      ]
    },
    {
      "cell_type": "code",
      "execution_count": 135,
      "metadata": {
        "colab": {
          "base_uri": "https://localhost:8080/"
        },
        "id": "pyYLe1jEIXIP",
        "outputId": "3087aa68-0f47-4e59-fb0b-3d58f5472416"
      },
      "outputs": [
        {
          "data": {
            "text/plain": [
              "tensor(45.)"
            ]
          },
          "execution_count": 135,
          "metadata": {},
          "output_type": "execute_result"
        }
      ],
      "source": [
        "#Precisamos ter o tipo de dados float para usar o mean()\n",
        "x = x.to(dtype=torch.float32)\n",
        "x.mean()"
      ]
    },
    {
      "cell_type": "code",
      "execution_count": 136,
      "metadata": {
        "colab": {
          "base_uri": "https://localhost:8080/"
        },
        "id": "QTwRiRByJItO",
        "outputId": "d6145bc1-9530-472c-9e19-48b6ce7e5307"
      },
      "outputs": [
        {
          "data": {
            "text/plain": [
              "tensor(450.)"
            ]
          },
          "execution_count": 136,
          "metadata": {},
          "output_type": "execute_result"
        }
      ],
      "source": [
        "torch.sum(x)"
      ]
    },
    {
      "cell_type": "markdown",
      "metadata": {
        "id": "C9M5DtXLIt_h"
      },
      "source": [
        "### Remodelando, Visualiando e Empilhando\n",
        "* Reshaping - Muda o shape de um tensor\n",
        "* View - Retorna uma visaualização do tensor mantendo o mesmo espaço na memória\n",
        "* Stacking - Combina tensores emcima ou ao lado de outro tensor\n",
        "* Squeeze - Usqueeze - remove todas as dimensões com 1 de um tensor\n",
        "Adiciona uma dimensão de 1 a um tensor\n",
        "* Permute - Retorna uma View, mas com dimenões alteradas"
      ]
    },
    {
      "cell_type": "code",
      "execution_count": 154,
      "metadata": {
        "colab": {
          "base_uri": "https://localhost:8080/"
        },
        "id": "lKXwT9ezMkwT",
        "outputId": "6b5da825-ee7f-43a6-d999-3700cd6e32ba"
      },
      "outputs": [
        {
          "data": {
            "text/plain": [
              "(tensor([1., 2., 3., 4., 5., 6., 7., 8., 9.]), torch.Size([9]))"
            ]
          },
          "execution_count": 154,
          "metadata": {},
          "output_type": "execute_result"
        }
      ],
      "source": [
        "x = torch.arange(1., 10.)\n",
        "x, x.shape"
      ]
    },
    {
      "cell_type": "code",
      "execution_count": 156,
      "metadata": {
        "colab": {
          "base_uri": "https://localhost:8080/"
        },
        "id": "K5OaYkMTI3BT",
        "outputId": "c4a9c27b-a018-4047-8cef-bf5378c5d57b"
      },
      "outputs": [
        {
          "data": {
            "text/plain": [
              "tensor([[1., 2., 3., 4., 5., 6., 7., 8., 9.]])"
            ]
          },
          "execution_count": 156,
          "metadata": {},
          "output_type": "execute_result"
        }
      ],
      "source": [
        "x_reshaped = x.reshape(1,9) #Adiciona uma dimensão \n",
        "x_reshaped"
      ]
    },
    {
      "cell_type": "code",
      "execution_count": 157,
      "metadata": {
        "colab": {
          "base_uri": "https://localhost:8080/"
        },
        "id": "5qQrxrk7NHke",
        "outputId": "111f0bda-044c-40db-cf23-d0e07f4ab171"
      },
      "outputs": [
        {
          "data": {
            "text/plain": [
              "tensor([[1.],\n",
              "        [2.],\n",
              "        [3.],\n",
              "        [4.],\n",
              "        [5.],\n",
              "        [6.],\n",
              "        [7.],\n",
              "        [8.],\n",
              "        [9.]])"
            ]
          },
          "execution_count": 157,
          "metadata": {},
          "output_type": "execute_result"
        }
      ],
      "source": [
        "x_reshaped = x.reshape(9,1) #Adiciona uma na outra dimensão\n",
        "x_reshaped"
      ]
    },
    {
      "cell_type": "code",
      "execution_count": 158,
      "metadata": {
        "colab": {
          "base_uri": "https://localhost:8080/"
        },
        "id": "frNgZGEiNRKz",
        "outputId": "ed56ce38-c4b8-44aa-ba77-531d490c4efe"
      },
      "outputs": [
        {
          "data": {
            "text/plain": [
              "tensor([[1., 2., 3.],\n",
              "        [4., 5., 6.],\n",
              "        [7., 8., 9.]])"
            ]
          },
          "execution_count": 158,
          "metadata": {},
          "output_type": "execute_result"
        }
      ],
      "source": [
        "x_reshaped = x.reshape(3,3)\n",
        "x_reshaped"
      ]
    },
    {
      "cell_type": "code",
      "execution_count": 162,
      "metadata": {
        "colab": {
          "base_uri": "https://localhost:8080/"
        },
        "id": "7qsDZ3DBNwJZ",
        "outputId": "52f29f9f-3864-4747-ea99-ca3acf9f0af5"
      },
      "outputs": [
        {
          "data": {
            "text/plain": [
              "(tensor([[1., 2., 3., 4., 5., 6., 7., 8., 9.]]), torch.Size([1, 9]))"
            ]
          },
          "execution_count": 162,
          "metadata": {},
          "output_type": "execute_result"
        }
      ],
      "source": [
        "z = x.view(1,9)\n",
        "z, z.shape # Mudando z, muda x, pois eles compartilham do mesmo espaço na memória"
      ]
    },
    {
      "cell_type": "code",
      "execution_count": 176,
      "metadata": {
        "colab": {
          "base_uri": "https://localhost:8080/"
        },
        "id": "iSSnfnzkN_I6",
        "outputId": "994c4b54-47d5-4acc-b431-6416a648adbc"
      },
      "outputs": [
        {
          "data": {
            "text/plain": [
              "tensor([[1., 2., 3., 4., 5., 6., 7., 8., 9.],\n",
              "        [1., 2., 3., 4., 5., 6., 7., 8., 9.]])"
            ]
          },
          "execution_count": 176,
          "metadata": {},
          "output_type": "execute_result"
        }
      ],
      "source": [
        "z = x\n",
        "x_stacked = torch.stack([x,z], dim=0)\n",
        "x_stacked\n"
      ]
    },
    {
      "cell_type": "markdown",
      "metadata": {
        "id": "lFDF81u0ONJ5"
      },
      "source": [
        "Squeezing e Permute"
      ]
    },
    {
      "cell_type": "code",
      "execution_count": 183,
      "metadata": {
        "colab": {
          "base_uri": "https://localhost:8080/"
        },
        "id": "LNU8-LzaPWnG",
        "outputId": "29cfcee9-dddd-495e-c707-814a0af219b3"
      },
      "outputs": [
        {
          "name": "stdout",
          "output_type": "stream",
          "text": [
            "torch.Size([9])\n",
            "tensor([[1., 2., 3., 4., 5., 6., 7., 8., 9.]])\n",
            "tensor([1., 2., 3., 4., 5., 6., 7., 8., 9.])\n"
          ]
        }
      ],
      "source": [
        "print(x.shape)\n",
        "print(x.unsqueeze(dim=0)) # dim=1 ele adiciona uma dimensão nas colunas\n",
        "print(x.squeeze(dim=0)) # Remove dimensões singulares (1)\n"
      ]
    },
    {
      "cell_type": "code",
      "execution_count": 193,
      "metadata": {
        "colab": {
          "base_uri": "https://localhost:8080/"
        },
        "id": "AQMoHoS-SSqc",
        "outputId": "12c51737-ea6c-4ac7-df12-68b93c9de1d2"
      },
      "outputs": [
        {
          "data": {
            "text/plain": [
              "(torch.Size([224, 224, 3]), torch.Size([3, 224, 224]))"
            ]
          },
          "execution_count": 193,
          "metadata": {},
          "output_type": "execute_result"
        }
      ],
      "source": [
        "tensor = torch.rand(224,224,3)\n",
        "tensor.shape, torch.permute(tensor, [2,0,1]).shape #Muda a ordem das dimensoes "
      ]
    },
    {
      "cell_type": "markdown",
      "metadata": {
        "id": "9YvtFN9YP-rA"
      },
      "source": [
        "### Indexando"
      ]
    },
    {
      "cell_type": "code",
      "execution_count": null,
      "metadata": {
        "id": "C4T3lV7RQCnH"
      },
      "outputs": [],
      "source": []
    }
  ],
  "metadata": {
    "colab": {
      "provenance": [],
      "toc_visible": true
    },
    "gpuClass": "standard",
    "kernelspec": {
      "display_name": "Python 3",
      "name": "python3"
    },
    "language_info": {
      "name": "python",
      "version": "3.10.6"
    }
  },
  "nbformat": 4,
  "nbformat_minor": 0
}
